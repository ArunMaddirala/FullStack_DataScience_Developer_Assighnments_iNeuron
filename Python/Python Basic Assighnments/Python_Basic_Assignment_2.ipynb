{
 "cells": [
  {
   "cell_type": "code",
   "execution_count": null,
   "id": "e0642362",
   "metadata": {},
   "outputs": [],
   "source": [
    "Q1.What are the two values of the Boolean data type? How do you write them?\n",
    "Ans :\n",
    "    True and False are two values of the boolen data types.\n",
    "    with capital T and F we have to start and rest of the words in lowercase\n",
    "    "
   ]
  },
  {
   "cell_type": "code",
   "execution_count": 2,
   "id": "3f65d373",
   "metadata": {},
   "outputs": [
    {
     "name": "stdout",
     "output_type": "stream",
     "text": [
      "True <class 'bool'>\n",
      "False <class 'bool'>\n"
     ]
    }
   ],
   "source": [
    "a=True\n",
    "b=False\n",
    "print(a,type(a))\n",
    "print(b,type(b))"
   ]
  },
  {
   "cell_type": "code",
   "execution_count": null,
   "id": "20f3f833",
   "metadata": {},
   "outputs": [],
   "source": [
    "Q2. What are the three different types of Boolean operators?\n",
    "Ans :\n",
    "    there are three diffrent types of boolean operators are : or and not"
   ]
  },
  {
   "cell_type": "code",
   "execution_count": 4,
   "id": "4585a6a9",
   "metadata": {},
   "outputs": [
    {
     "name": "stdout",
     "output_type": "stream",
     "text": [
      "True\n",
      "True\n",
      "False\n"
     ]
    }
   ],
   "source": [
    "a = 10\n",
    "b=20\n",
    "print(a>5 and b>10) #example of and operator\n",
    "print(a>20 or b>10) #example of or operator\n",
    "print(not(a>1)) #example of not operator"
   ]
  },
  {
   "cell_type": "code",
   "execution_count": null,
   "id": "0ca390dc",
   "metadata": {},
   "outputs": [],
   "source": [
    "Q3. Make a list of each Boolean operator's truth tables \n",
    "(i.e. every possible combination of Boolean values for the operator and what it evaluate ).\n",
    "Ans :\n",
    "    1.Truth table for and operator :\n",
    "        True and True is True\n",
    "        True and False is False\n",
    "        False and True is False\n",
    "        False and False is False\n",
    "        \n",
    "    2.Truth table for or operator :\n",
    "        True and True is True\n",
    "        True and False is True\n",
    "        False and True is True\n",
    "        False and False is False\n",
    "        \n",
    "    3.Truth table for not operator :\n",
    "        True not is False\n",
    "        False is not True\n",
    "        \n"
   ]
  },
  {
   "cell_type": "code",
   "execution_count": null,
   "id": "32249b8e",
   "metadata": {},
   "outputs": [],
   "source": [
    "Q4. What are the values of the following expressions?\n",
    "(5 > 4) and (3 == 5)\n",
    "not (5 > 4)\n",
    "(5 > 4) or (3 == 5)\n",
    "not ((5 > 4) or (3 == 5))\n",
    "(True and True) and (True == False)\n",
    "(not False) or (not True)\n"
   ]
  },
  {
   "cell_type": "code",
   "execution_count": 6,
   "id": "177e12e9",
   "metadata": {},
   "outputs": [
    {
     "name": "stdout",
     "output_type": "stream",
     "text": [
      "False\n",
      "False\n",
      "True\n",
      "False\n",
      "False\n",
      "True\n"
     ]
    }
   ],
   "source": [
    "print((5 > 4) and (3 == 5))\n",
    "print(not (5 > 4))\n",
    "print((5 > 4) or (3 == 5))\n",
    "print(not ((5 > 4) or (3 == 5)))\n",
    "print((True and True) and (True == False))\n",
    "print((not False) or (not True))"
   ]
  },
  {
   "cell_type": "code",
   "execution_count": null,
   "id": "2bf4e892",
   "metadata": {},
   "outputs": [],
   "source": [
    "Q5. What are the six comparison operators?\n",
    "Ans :\n",
    "    1.==\n",
    "    2.!=\n",
    "    3.<\n",
    "    4.>\n",
    "    5.<=\n",
    "    6.=>"
   ]
  },
  {
   "cell_type": "code",
   "execution_count": null,
   "id": "747190fb",
   "metadata": {},
   "outputs": [],
   "source": [
    "Q6. How do you tell the difference between the equal to and assignment operators?\n",
    "Describe a condition and when you would use one.\n",
    "Ans:\n",
    "    == is compares two values \n",
    "    = is stores a value in a variable"
   ]
  },
  {
   "cell_type": "code",
   "execution_count": 5,
   "id": "7780235b",
   "metadata": {},
   "outputs": [
    {
     "name": "stdout",
     "output_type": "stream",
     "text": [
      "True\n"
     ]
    }
   ],
   "source": [
    "a = 10 #Stores a value of 10 into the variable a\n",
    "if a == 10 : #comparing a value of variable value 10\n",
    "    print(a==10)"
   ]
  },
  {
   "cell_type": "code",
   "execution_count": null,
   "id": "3038ea66",
   "metadata": {},
   "outputs": [],
   "source": [
    "Q7. Identify the three blocks in this code:\n",
    "spam = 0\n",
    "if spam == 10:\n",
    "print('eggs')\n",
    "if spam > 5:\n",
    "print('bacon')\n",
    "else:\n",
    "print('ham')\n",
    "print('spam')\n",
    "print('spam')\n"
   ]
  },
  {
   "cell_type": "code",
   "execution_count": null,
   "id": "3344dcb8",
   "metadata": {},
   "outputs": [],
   "source": [
    "Ans : In python, code blocks refers to collection of vode that is the same block or indent.\n",
    "    this is most commmonly found in classes, functions, and loops."
   ]
  },
  {
   "cell_type": "code",
   "execution_count": 1,
   "id": "7dbd9cd2",
   "metadata": {},
   "outputs": [
    {
     "name": "stdout",
     "output_type": "stream",
     "text": [
      "ham\n",
      "spam\n",
      "spam\n"
     ]
    }
   ],
   "source": [
    "spam = 0\n",
    "if spam == 10:\n",
    "    print('eggs')  #block #1\n",
    "if spam > 5 :\n",
    "    print('bacon')  #block #2\n",
    "else :\n",
    "    print('ham')  #block #3\n",
    "print('spam')\n",
    "print('spam')"
   ]
  },
  {
   "cell_type": "code",
   "execution_count": null,
   "id": "15fb082a",
   "metadata": {},
   "outputs": [],
   "source": [
    "Q8. Write code that prints Hello if 1 is stored in spam, prints Howdy if 2 is stored in spam, \n",
    "and prints Greetings! if anything else is stored in spam.\n"
   ]
  },
  {
   "cell_type": "code",
   "execution_count": 2,
   "id": "6597bec2",
   "metadata": {},
   "outputs": [
    {
     "name": "stdout",
     "output_type": "stream",
     "text": [
      "Hello\n",
      "Howdy\n",
      "Greetings\n"
     ]
    }
   ],
   "source": [
    "def spamCode(spam):\n",
    "    if spam == 1:\n",
    "        print('Hello')\n",
    "    elif spam == 2:\n",
    "        print('Howdy')\n",
    "    else :\n",
    "        print('Greetings')\n",
    "    \n",
    "spamCode(1)\n",
    "spamCode(2)\n",
    "spamCode(3)"
   ]
  },
  {
   "cell_type": "code",
   "execution_count": null,
   "id": "ffa92fe8",
   "metadata": {},
   "outputs": [],
   "source": [
    "Q9.If your programme is stuck in an endless loop, what keys you’ll press?\n"
   ]
  },
  {
   "cell_type": "code",
   "execution_count": null,
   "id": "e2b5e2e6",
   "metadata": {},
   "outputs": [],
   "source": [
    "Ans : press Ctr-c to stop a program stuck in an infinite loop"
   ]
  },
  {
   "cell_type": "code",
   "execution_count": null,
   "id": "329c21cf",
   "metadata": {},
   "outputs": [],
   "source": [
    "Q10. How can you tell the difference between break and continue?\n"
   ]
  },
  {
   "cell_type": "code",
   "execution_count": null,
   "id": "7aecc0ac",
   "metadata": {},
   "outputs": [],
   "source": [
    "Ans : \n",
    "    Break : break statement will move the execution outside the loop if break condition is satisfied.\n",
    "    Continue : the continue statement will move the execution to the start of the loop."
   ]
  },
  {
   "cell_type": "code",
   "execution_count": null,
   "id": "12299fd2",
   "metadata": {},
   "outputs": [],
   "source": [
    "Q11. In a for loop, what is the difference between range(10), range(0, 10), and range(0, 10, 1)?"
   ]
  },
  {
   "cell_type": "code",
   "execution_count": null,
   "id": "1287235c",
   "metadata": {},
   "outputs": [],
   "source": [
    "Ans : The differences are as follow:\n",
    "        \n",
    "        1.The range(10) call range from 0 to 9 (but not include 10)\n",
    "        2.The range(0,10) tells the loop to start at 0\n",
    "        3.The range(0,10,1) tells the loop to increase the variable by 1 on each iteration"
   ]
  },
  {
   "cell_type": "code",
   "execution_count": null,
   "id": "673f5266",
   "metadata": {},
   "outputs": [],
   "source": [
    "Q12. Write a short program that prints the numbers 1 to 10 using a for loop. \n",
    "Then write an equivalent program that prints the numbers 1 to 10 using a while loop.\n"
   ]
  },
  {
   "cell_type": "code",
   "execution_count": 3,
   "id": "bc77bafc",
   "metadata": {},
   "outputs": [
    {
     "name": "stdout",
     "output_type": "stream",
     "text": [
      "---------- Using for loop ----------\n",
      "1 2 3 4 5 6 7 8 9 10 \n",
      "\n",
      "---------- Using while loop ----------\n",
      "1 2 3 4 5 6 7 8 9 10 "
     ]
    }
   ],
   "source": [
    "print('-'*10, 'Using for loop','-'*10)\n",
    "for i in range(1,11):\n",
    "    print(i, end=\" \")\n",
    "print('\\n')\n",
    "print('-'*10,'Using while loop','-'*10)\n",
    "i=1\n",
    "while i <=10:\n",
    "    print(i, end=\" \")\n",
    "    i+=1"
   ]
  },
  {
   "cell_type": "code",
   "execution_count": null,
   "id": "6328c706",
   "metadata": {},
   "outputs": [],
   "source": [
    "Q13. If you had a function named bacon() inside a module named spam, how would you call it after importing spam?"
   ]
  },
  {
   "cell_type": "code",
   "execution_count": null,
   "id": "8bda7d70",
   "metadata": {},
   "outputs": [],
   "source": [
    "Ans : \n",
    "    The function can be called with spam.bacon()"
   ]
  },
  {
   "cell_type": "code",
   "execution_count": null,
   "id": "000b5f9f",
   "metadata": {},
   "outputs": [],
   "source": []
  },
  {
   "cell_type": "code",
   "execution_count": null,
   "id": "13fb6777",
   "metadata": {},
   "outputs": [],
   "source": []
  },
  {
   "cell_type": "code",
   "execution_count": null,
   "id": "6537e4d2",
   "metadata": {},
   "outputs": [],
   "source": []
  }
 ],
 "metadata": {
  "kernelspec": {
   "display_name": "Python 3 (ipykernel)",
   "language": "python",
   "name": "python3"
  },
  "language_info": {
   "codemirror_mode": {
    "name": "ipython",
    "version": 3
   },
   "file_extension": ".py",
   "mimetype": "text/x-python",
   "name": "python",
   "nbconvert_exporter": "python",
   "pygments_lexer": "ipython3",
   "version": "3.9.7"
  }
 },
 "nbformat": 4,
 "nbformat_minor": 5
}
