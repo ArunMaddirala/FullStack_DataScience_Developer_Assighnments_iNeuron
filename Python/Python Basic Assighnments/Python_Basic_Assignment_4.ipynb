{
 "cells": [
  {
   "cell_type": "code",
   "execution_count": null,
   "id": "bee79cb7",
   "metadata": {},
   "outputs": [],
   "source": [
    "Q1. What exactly is []?\n",
    "\n",
    "Ans : The empty list represented by [] is a list that contains no items. This is similat to ''\n",
    "      which represents an empty string"
   ]
  },
  {
   "cell_type": "code",
   "execution_count": null,
   "id": "f2b4dc14",
   "metadata": {},
   "outputs": [],
   "source": [
    "2. In a list of values stored in a variable called spam, how would you assign the value 'hello' as the third value?\n",
    "(Assume [2, 4, 6, 8, 10] are in spam.)\n",
    "\n",
    "Ans : spam[2]='hello' (Note: List follows zero based indexing)"
   ]
  },
  {
   "cell_type": "code",
   "execution_count": 1,
   "id": "2916255a",
   "metadata": {},
   "outputs": [
    {
     "name": "stdout",
     "output_type": "stream",
     "text": [
      "[2, 4, 6, 8, 10]\n",
      "[2, 4, 'hello', 8, 10]\n"
     ]
    }
   ],
   "source": [
    "spam=[2,4,6,8,10]\n",
    "print(spam)\n",
    "spam[2]='hello' #list uses zero based indexing\n",
    "print(spam)\n",
    "\n",
    "Let's pretend the spam includes the list ['a', 'b', 'c', 'd'] for the next three queries.\n"
   ]
  },
  {
   "cell_type": "code",
   "execution_count": null,
   "id": "08b59752",
   "metadata": {},
   "outputs": [],
   "source": [
    "Q3. What is the value of spam[int(int('3' * 2) / 11)]?\n",
    "\n",
    "Ans :  'd' (Note that '3' * 2 is the string '33', which is passed to int() before being divided by 11. \n",
    "            This eventually evaluates to 3, spam[3] is equal to d.)\n"
   ]
  },
  {
   "cell_type": "code",
   "execution_count": 2,
   "id": "b5bb9f23",
   "metadata": {},
   "outputs": [
    {
     "name": "stdout",
     "output_type": "stream",
     "text": [
      "spam[int(int('3'*2)//11)] -> d\n"
     ]
    }
   ],
   "source": [
    "spam=['a','b','c','d']\n",
    "print(\"spam[int(int('3'*2)//11)] ->\",spam[int(int('3'*2)//11)])"
   ]
  },
  {
   "cell_type": "code",
   "execution_count": null,
   "id": "c6067722",
   "metadata": {},
   "outputs": [],
   "source": [
    "Q4. What is the value of spam[-1]?\n",
    "\n",
    "Ans : 'd' (Lists support Negative indexing, Hence spam[-1] returs 'd')"
   ]
  },
  {
   "cell_type": "code",
   "execution_count": 4,
   "id": "24102cab",
   "metadata": {},
   "outputs": [
    {
     "name": "stdout",
     "output_type": "stream",
     "text": [
      "spam[-1] -> d\n"
     ]
    }
   ],
   "source": [
    "spam=['a','b','c','d']\n",
    "print('spam[-1] ->',spam[-1])"
   ]
  },
  {
   "cell_type": "code",
   "execution_count": null,
   "id": "b31c3fec",
   "metadata": {},
   "outputs": [],
   "source": [
    "Q5. What is the value of spam[:2]?\n",
    "\n",
    "Ans : spam[:2] returns all elements in the list spam from 0 to 2 excluding 2"
   ]
  },
  {
   "cell_type": "code",
   "execution_count": 6,
   "id": "7a2ffac2",
   "metadata": {},
   "outputs": [
    {
     "name": "stdout",
     "output_type": "stream",
     "text": [
      "['a', 'b', 'c', 'd']\n",
      "['a', 'b']\n"
     ]
    }
   ],
   "source": [
    "print(spam)\n",
    "print(spam[:2])"
   ]
  },
  {
   "cell_type": "code",
   "execution_count": null,
   "id": "f1ba4354",
   "metadata": {},
   "outputs": [],
   "source": [
    "Let's pretend bacon has the list [3.14, 'cat,' 11, 'cat,' True] for the next three questions."
   ]
  },
  {
   "cell_type": "code",
   "execution_count": null,
   "id": "780bd5a6",
   "metadata": {},
   "outputs": [],
   "source": [
    "Q6. What is the value of bacon.index('cat')?\n",
    "\n",
    "Ans : The value of bacon.index('cat') is 1 (Note: index method returns the index of first occuerence of 'cat'"
   ]
  },
  {
   "cell_type": "code",
   "execution_count": 7,
   "id": "43f473fa",
   "metadata": {},
   "outputs": [
    {
     "name": "stdout",
     "output_type": "stream",
     "text": [
      "bacon.index('cat') -> 1\n"
     ]
    }
   ],
   "source": [
    "bacon=[3.14, 'cat',11,'cat',True]\n",
    "print(\"bacon.index('cat') ->\",bacon.index('cat'))"
   ]
  },
  {
   "cell_type": "code",
   "execution_count": null,
   "id": "651d0df7",
   "metadata": {},
   "outputs": [],
   "source": [
    "Q7. How does bacon.append(99) change the look of the list value in bacon?\n",
    "\n",
    "Ans : The append method adds new elements to the end of the list"
   ]
  },
  {
   "cell_type": "code",
   "execution_count": 9,
   "id": "983d75b5",
   "metadata": {},
   "outputs": [
    {
     "name": "stdout",
     "output_type": "stream",
     "text": [
      "[3.14, 'cat', 11, 'cat', True, 99]\n",
      "[3.14, 'cat', 11, 'cat', True, 99, 99]\n"
     ]
    }
   ],
   "source": [
    "print(bacon)\n",
    "bacon.append(99) #append 99 to the end of the list\n",
    "print(bacon)"
   ]
  },
  {
   "cell_type": "code",
   "execution_count": null,
   "id": "d5f77a5d",
   "metadata": {},
   "outputs": [],
   "source": [
    "Q8. How does bacon.remove('cat') change the look of the list in bacon?\n",
    "\n",
    "Ans : the remove method removes the first occurence of the element in the list"
   ]
  },
  {
   "cell_type": "code",
   "execution_count": 10,
   "id": "133377ae",
   "metadata": {},
   "outputs": [
    {
     "name": "stdout",
     "output_type": "stream",
     "text": [
      "[3.14, 'cat', 11, 'cat', True, 99, 99]\n",
      "[3.14, 11, 'cat', True, 99, 99]\n"
     ]
    }
   ],
   "source": [
    "print(bacon)\n",
    "bacon.remove('cat')\n",
    "print(bacon)"
   ]
  },
  {
   "cell_type": "code",
   "execution_count": null,
   "id": "bad9487a",
   "metadata": {},
   "outputs": [],
   "source": [
    "Q9. What are the list concatenation and list replication operators?\n",
    "\n",
    "Ans : The list concatenation is +\n",
    "      The operator for replication is * (this is the same as for strings)"
   ]
  },
  {
   "cell_type": "code",
   "execution_count": 12,
   "id": "110e0154",
   "metadata": {},
   "outputs": [
    {
     "name": "stdout",
     "output_type": "stream",
     "text": [
      "['ML', 'DL', 'AI', 'CV', 'NLP', 'RNN', 'CNN', 'SVN']\n",
      "['RNN', 'CNN', 'SVN', 'RNN', 'CNN', 'SVN']\n"
     ]
    }
   ],
   "source": [
    "list_1 = ['ML','DL','AI','CV','NLP']\n",
    "list_2 = ['RNN','CNN','SVN']\n",
    "print(list_1 + list_2)  #list concatenation\n",
    "print(list_2*2) #list replication"
   ]
  },
  {
   "cell_type": "code",
   "execution_count": null,
   "id": "09729103",
   "metadata": {},
   "outputs": [],
   "source": [
    "Q10. What is difference between the list methods append() and insert()?\n",
    "\n",
    "Ans : While append() will add values only to the end of a list, insert() can add them anywhere in the list."
   ]
  },
  {
   "cell_type": "code",
   "execution_count": 13,
   "id": "67058694",
   "metadata": {},
   "outputs": [
    {
     "name": "stdout",
     "output_type": "stream",
     "text": [
      "[1, 2, 3, 4, 5, 6]\n",
      "[1, 2, 'Arun', 3, 4, 5, 6]\n"
     ]
    }
   ],
   "source": [
    "list = [1,2,3,4,5]\n",
    "list.append(6)\n",
    "print(list)\n",
    "list.insert(2,'Arun')\n",
    "print(list)"
   ]
  },
  {
   "cell_type": "code",
   "execution_count": null,
   "id": "e04885dd",
   "metadata": {},
   "outputs": [],
   "source": [
    "Q11. What are the two methods for removing items from a list?\n",
    "\n",
    "Ans : The del statement and the remove() method are two ways to remove values from a list"
   ]
  },
  {
   "cell_type": "code",
   "execution_count": null,
   "id": "6590b530",
   "metadata": {},
   "outputs": [],
   "source": [
    "Q12. Describe how list values and string values are identical.\n",
    "\n",
    "Ans : Both lists and strings can be passed to len() function, have indexes and slices, be used in for loops,\n",
    "      be concatenated or replicated, and be used with the in and not in operators."
   ]
  },
  {
   "cell_type": "code",
   "execution_count": null,
   "id": "115cf8e2",
   "metadata": {},
   "outputs": [],
   "source": [
    "Q13. What's the difference between tuples and lists?\n",
    "\n",
    "Ans : Lists are Mutable, Indexable and Slicable. they can have values added, removed, or changed. \n",
    "      Tuples are Immutable but Indexable and Slicable. the tuple values cannot be changed at all. Also,\n",
    "      tuples are represented using parentheses, (), while lists use the square brackets, []."
   ]
  },
  {
   "cell_type": "code",
   "execution_count": null,
   "id": "a92a3e61",
   "metadata": {},
   "outputs": [],
   "source": [
    "Q14. How do you type a tuple value that only contains the integer 42?\n",
    "\n",
    "Ans : (42,) (The trailing comma is mandatory. otherwise its considered as a int by python Interpreter)"
   ]
  },
  {
   "cell_type": "code",
   "execution_count": 17,
   "id": "62b966a2",
   "metadata": {},
   "outputs": [
    {
     "name": "stdout",
     "output_type": "stream",
     "text": [
      "<class 'int'>\n",
      "<class 'tuple'>\n"
     ]
    }
   ],
   "source": [
    "tup1=(42)\n",
    "tup2=(42,)\n",
    "print(type(tup1))\n",
    "print(type(tup2))"
   ]
  },
  {
   "cell_type": "code",
   "execution_count": null,
   "id": "7893e0a1",
   "metadata": {},
   "outputs": [],
   "source": [
    "Q15. How do you get a list value's tuple form? How do you get a tuple value's list form?\n",
    "\n",
    "Ans : The tuple() and list() functions, respectively are used to convert a list to tuple and vice versa"
   ]
  },
  {
   "cell_type": "code",
   "execution_count": null,
   "id": "0ccf70f2",
   "metadata": {},
   "outputs": [],
   "source": [
    "Q16. Variables that \"contain\" list values are not necessarily lists themselves. Instead, what do they contain?\n",
    "\n",
    "Ans : They contain references to list values."
   ]
  },
  {
   "cell_type": "code",
   "execution_count": null,
   "id": "9c319785",
   "metadata": {},
   "outputs": [],
   "source": [
    "Q17. How do you distinguish between copy.copy() and copy.deepcopy()?\n",
    "\n",
    "Ans :  The copy.copy() function will do a shallow copy of a list, while the copy.deepcopy() function will do a \n",
    "       deep copy of a list. That is, only copy.deepcopy() will duplicate any lists inside the list."
   ]
  },
  {
   "cell_type": "code",
   "execution_count": null,
   "id": "1c320959",
   "metadata": {},
   "outputs": [],
   "source": []
  },
  {
   "cell_type": "code",
   "execution_count": null,
   "id": "59eb8e82",
   "metadata": {},
   "outputs": [],
   "source": []
  }
 ],
 "metadata": {
  "kernelspec": {
   "display_name": "Python 3 (ipykernel)",
   "language": "python",
   "name": "python3"
  },
  "language_info": {
   "codemirror_mode": {
    "name": "ipython",
    "version": 3
   },
   "file_extension": ".py",
   "mimetype": "text/x-python",
   "name": "python",
   "nbconvert_exporter": "python",
   "pygments_lexer": "ipython3",
   "version": "3.9.7"
  }
 },
 "nbformat": 4,
 "nbformat_minor": 5
}
