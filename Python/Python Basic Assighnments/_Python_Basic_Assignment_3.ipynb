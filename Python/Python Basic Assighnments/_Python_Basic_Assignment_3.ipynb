{
 "cells": [
  {
   "cell_type": "code",
   "execution_count": null,
   "id": "82148b1b",
   "metadata": {},
   "outputs": [],
   "source": [
    "Q1. Why are functions advantageous to have in your programs?\n",
    "\n",
    "Ans : Function s reduce the need for duplicate code. This makes programs shorter,easier to read,\n",
    "    and easire to update. The main advantage of function is code Reusability."
   ]
  },
  {
   "cell_type": "code",
   "execution_count": null,
   "id": "32242036",
   "metadata": {},
   "outputs": [],
   "source": [
    "Q2. When does the code in a function run: when it's specified or when it's called?\n",
    "    \n",
    "Ans : The code in a function executes when the function is called, not when the function is specified."
   ]
  },
  {
   "cell_type": "code",
   "execution_count": null,
   "id": "8040cb48",
   "metadata": {},
   "outputs": [],
   "source": [
    "Q3. What statement creates a function?\n",
    "\n",
    "Ans : The def statement defines a function\n",
    "    syntax of Function:\n",
    "        def function_name(parameters): \"\"\"doc string\"\"\" -----function body-----\n",
    "        -----function body-----return value"
   ]
  },
  {
   "cell_type": "code",
   "execution_count": null,
   "id": "ed82885d",
   "metadata": {},
   "outputs": [],
   "source": [
    "Q4. What is the difference between a function and a function call?\n",
    "\n",
    "Ans : Function : A function is produre to achieve a particular result.\n",
    "      Function call : function call is using this function to achieve that task.\n",
    "        using a function to do a particular task any point in program is called as function call.\n"
   ]
  },
  {
   "cell_type": "code",
   "execution_count": null,
   "id": "461666dd",
   "metadata": {},
   "outputs": [],
   "source": [
    "Q5. How many global scopes are there in a Python program? How many local scopes?\n",
    "\n",
    "Ans : There is a one global scope, and local scope is created whenever a function is called.\n"
   ]
  },
  {
   "cell_type": "code",
   "execution_count": null,
   "id": "bef0912f",
   "metadata": {},
   "outputs": [],
   "source": [
    "Q6. What happens to variables in a local scope when the function call returns?\n",
    "\n",
    "Ans : When a function returns, the local scope destroyed, and all the variables in it are forgotten.\n"
   ]
  },
  {
   "cell_type": "code",
   "execution_count": null,
   "id": "5d147be9",
   "metadata": {},
   "outputs": [],
   "source": [
    "Q7. What is the concept of a return value? Is it possible to have a return value in an expression?\n",
    "\n",
    "Ans : A return value is the value that a function call evaluates to. Like any value, a return value can be used as part\n",
    "      of an expression.\n"
   ]
  },
  {
   "cell_type": "code",
   "execution_count": null,
   "id": "a88bf3d7",
   "metadata": {},
   "outputs": [],
   "source": [
    "Q8. If a function does not have a return statement, what is the return value of a call to that function?\n",
    "\n",
    "Ans : If there is no return statement for a function, its resturn value is None.\n"
   ]
  },
  {
   "cell_type": "code",
   "execution_count": null,
   "id": "0116617c",
   "metadata": {},
   "outputs": [],
   "source": [
    "Q9. How do you make a function variable refer to the global variable?\n",
    "\n",
    "Ans : A global statement will force a variable in a function in a function to refer to the global variable.\n",
    "    if you want to refer to global variable in function, you can use the global keyword to declare \n",
    "    which variables are global\n"
   ]
  },
  {
   "cell_type": "code",
   "execution_count": null,
   "id": "60206049",
   "metadata": {},
   "outputs": [],
   "source": [
    "Q10. What is the data type of None?\n",
    "\n",
    "Ans : The data type of None is NoneType.\n"
   ]
  },
  {
   "cell_type": "code",
   "execution_count": null,
   "id": "e7bc5e69",
   "metadata": {},
   "outputs": [],
   "source": [
    "Q11. What does the sentence import areallyourpetsnamederic do?\n",
    "\n",
    "Ans : That import statement imports a module named areallyourpetsnamederic."
   ]
  },
  {
   "cell_type": "code",
   "execution_count": null,
   "id": "2227f9fb",
   "metadata": {},
   "outputs": [],
   "source": [
    "Q12. If you had a bacon() feature in a spam module, what would you call it after importing spam?\n",
    "\n",
    "Ans : The function can be called with spam.bacon()"
   ]
  },
  {
   "cell_type": "code",
   "execution_count": null,
   "id": "a1a61cd2",
   "metadata": {},
   "outputs": [],
   "source": [
    "Q13. What can you do to save a programme from crashing if it encounters an error?\n",
    "\n",
    "Ans : Place the line of code that might cause an error in a try \n",
    "    clause ans use except block to handle the error"
   ]
  },
  {
   "cell_type": "code",
   "execution_count": null,
   "id": "ae4739ae",
   "metadata": {},
   "outputs": [],
   "source": [
    "Q14. What is the purpose of the try clause? What is the purpose of the except clause?\n",
    "\n",
    "Ans : The code that could potentially cause an error goes in the try clause.\n",
    "    The code that executes if an error happen goes in the except clause."
   ]
  }
 ],
 "metadata": {
  "kernelspec": {
   "display_name": "Python 3 (ipykernel)",
   "language": "python",
   "name": "python3"
  },
  "language_info": {
   "codemirror_mode": {
    "name": "ipython",
    "version": 3
   },
   "file_extension": ".py",
   "mimetype": "text/x-python",
   "name": "python",
   "nbconvert_exporter": "python",
   "pygments_lexer": "ipython3",
   "version": "3.9.7"
  }
 },
 "nbformat": 4,
 "nbformat_minor": 5
}
