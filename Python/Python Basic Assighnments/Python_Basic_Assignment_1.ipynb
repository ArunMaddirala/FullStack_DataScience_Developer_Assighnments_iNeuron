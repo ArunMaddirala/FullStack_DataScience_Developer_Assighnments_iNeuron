{
 "cells": [
  {
   "cell_type": "code",
   "execution_count": null,
   "id": "f23b2dfc",
   "metadata": {},
   "outputs": [],
   "source": [
    "1. In the below elements which of them are values or an expression? eg:- values can be\n",
    "integer or string and expressions will be mathematical operators. *, 'hello', -87.8, -, /, +, 6\n",
    "\n",
    "Ans : there are two types of operators and expressions are given which is \n",
    "\n",
    "Operators : *,-,/,+\n",
    "expressions : 'hello',87.8,6\n",
    "    "
   ]
  },
  {
   "cell_type": "code",
   "execution_count": null,
   "id": "01efe85f",
   "metadata": {},
   "outputs": [],
   "source": [
    "2. What is the difference between string and variable?\n",
    "\n",
    "Ans : A variable is used to store of information and a String is a type of information you would store in a variable. \n",
    "     A string is a group of characteristics or single character usually enclosed in double quotes \"\" or single quotes''"
   ]
  },
  {
   "cell_type": "code",
   "execution_count": null,
   "id": "009c0db6",
   "metadata": {},
   "outputs": [],
   "source": [
    "3. Describe three different data types.\n",
    "\n",
    "Ans : 1) int : int data type to represent whole numbers (Int values)\n",
    "      2) float : float data type to represent floating numbers (decimal values)\n",
    "      3) complex : complex number represent by complex class. It is specified as (real part)+(imaginary part)j.\n"
   ]
  },
  {
   "cell_type": "code",
   "execution_count": 5,
   "id": "322b24ea",
   "metadata": {},
   "outputs": [
    {
     "name": "stdout",
     "output_type": "stream",
     "text": [
      "1003 <class 'int'>\n",
      "28.1 <class 'float'>\n",
      "(10+28.3j) <class 'complex'>\n"
     ]
    }
   ],
   "source": [
    "#Example of int\n",
    "i=1003\n",
    "print(i, type(i))\n",
    "\n",
    "#Example of float\n",
    "float=28.10\n",
    "print(float, type(float))\n",
    "\n",
    "#Example of Complex Number\n",
    "com=10+28.3j\n",
    "print(com, type(com))\n"
   ]
  },
  {
   "cell_type": "code",
   "execution_count": null,
   "id": "beab7162",
   "metadata": {},
   "outputs": [],
   "source": [
    "4. What is an expression made up of? What do all expressions do?\n",
    "\n",
    "Ans : An expressionis combination of values, variables, operators, and calls to functions.\n",
    "    expression need to be evaluated. if we ask python to print an expression, the interpreter\n",
    "    evaluates the expression and displays the result."
   ]
  },
  {
   "cell_type": "code",
   "execution_count": 8,
   "id": "0511d9ae",
   "metadata": {},
   "outputs": [
    {
     "data": {
      "text/plain": [
       "0"
      ]
     },
     "execution_count": 8,
     "metadata": {},
     "output_type": "execute_result"
    }
   ],
   "source": [
    "5*5+25-50"
   ]
  },
  {
   "cell_type": "code",
   "execution_count": null,
   "id": "b348de82",
   "metadata": {},
   "outputs": [],
   "source": [
    "5. This assignment statements, like spam = 10. What is the difference between an\n",
    "expression and a statement?\n",
    "\n",
    "Ans : Expression : An expression is a combination of symbols, variables, operators, and functions that produces a value.\n",
    "      Example : 5*5+25-50 is a example of expression\n",
    "        \n",
    "      statement : A statement is a complete instruction or action that performs a specific task.\n",
    "                  Statements are used to control the flow of execution or to perform operations."
   ]
  },
  {
   "cell_type": "code",
   "execution_count": 10,
   "id": "39fbd8db",
   "metadata": {},
   "outputs": [],
   "source": [
    "spam=10"
   ]
  },
  {
   "cell_type": "code",
   "execution_count": null,
   "id": "fb281acd",
   "metadata": {},
   "outputs": [],
   "source": [
    "It is assignment statement. It is assign the value of 10 to the variable name of \"Spam\""
   ]
  },
  {
   "cell_type": "code",
   "execution_count": null,
   "id": "15b77969",
   "metadata": {},
   "outputs": [],
   "source": [
    "6. After running the following code, what does the variable bacon contain?\n",
    "bacon = 22\n",
    "bacon + 1"
   ]
  },
  {
   "cell_type": "code",
   "execution_count": 11,
   "id": "924236c4",
   "metadata": {},
   "outputs": [
    {
     "name": "stdout",
     "output_type": "stream",
     "text": [
      "22\n"
     ]
    }
   ],
   "source": [
    "#example 1\n",
    "bacon=22\n",
    "bacon+1\n",
    "print(bacon)"
   ]
  },
  {
   "cell_type": "code",
   "execution_count": 12,
   "id": "2e8374b2",
   "metadata": {},
   "outputs": [
    {
     "name": "stdout",
     "output_type": "stream",
     "text": [
      "23\n"
     ]
    }
   ],
   "source": [
    "#exaple 2\n",
    "bacon=22\n",
    "bacon=bacon+1\n",
    "print(bacon)"
   ]
  },
  {
   "cell_type": "code",
   "execution_count": null,
   "id": "97f2ac30",
   "metadata": {},
   "outputs": [],
   "source": [
    "7. What should the values of the following two terms be?\n",
    "'spam' + 'spamspam'\n",
    "'spam' * 3\n",
    "\n",
    "Ans : both expressions are evaluate to the string.\n",
    "    the first expression follows string concentration and second follows string mulotiplication"
   ]
  },
  {
   "cell_type": "code",
   "execution_count": 13,
   "id": "31ebbb3d",
   "metadata": {},
   "outputs": [
    {
     "name": "stdout",
     "output_type": "stream",
     "text": [
      "spamspamspam\n",
      "spamspamspam\n"
     ]
    }
   ],
   "source": [
    "print('spam'+'spamspam') #string concerntration\n",
    "print('spam'*3) #String Multiplication"
   ]
  },
  {
   "cell_type": "code",
   "execution_count": null,
   "id": "e9e86cad",
   "metadata": {},
   "outputs": [],
   "source": [
    "8. Why is eggs a valid variable name while 100 is invalid?\n",
    "Ans: As per python, Variable name cannot begin with Number.\n",
    "    Rules for python variable naming :\n",
    "        1. Variable name must start with a letter or the underscore character.\n",
    "        2. Variable name cannot start with a number\n",
    "        3. example start with (A-z, 0-9, & _ ).\n",
    "        4. Variable names are case-sensitive (name, INEURON and ineuron are three different variables).\n",
    "        5. The reserved words(keywords) cannot be used naming the variable."
   ]
  },
  {
   "cell_type": "code",
   "execution_count": null,
   "id": "86bf6d13",
   "metadata": {},
   "outputs": [],
   "source": [
    "egg='Ineuron' # Valid variable Initilization\n",
    "100='hello' # Invalid Variable Initilization\n",
    "print(egg) #prints the value of egg ie Ineuron\n",
    "print(100) # Raises a Syntax Error as 100 is not a valid variable name"
   ]
  },
  {
   "cell_type": "code",
   "execution_count": null,
   "id": "75f2f6f5",
   "metadata": {},
   "outputs": [],
   "source": [
    "9. What three functions can be used to get the integer, floating-point number, or string version of a value?\n",
    "Ans : The int(),float(),and str() functions will evaluate to the integer,floating-point number,string version of the value passed to them."
   ]
  },
  {
   "cell_type": "code",
   "execution_count": null,
   "id": "70c2f9bd",
   "metadata": {},
   "outputs": [],
   "source": [
    "# Examples:\n",
    "print('int(10.0) -> ',int(10.0)) # int() function converts given input to int\n",
    "print('float(10) -> ',float(10)) # float() function converts given input to float\n",
    "print('str(10) -> ',str(10)) # str() function converts given input to string"
   ]
  },
  {
   "cell_type": "code",
   "execution_count": null,
   "id": "312ab899",
   "metadata": {},
   "outputs": [],
   "source": [
    "10. Why does this expression cause an error? How can you fix it?\n",
    "'I have eaten ' + 99 + ' burritos.'\n",
    "Ans : This cause of error is because 99 is not a string. 99 must be typecasted to a string to fix this error. the correct way is:\n",
    "Input: 'I have eaten ' + str(99) + 'burritos.'\n",
    "Output: 'I have eaten 99 burritos.'"
   ]
  },
  {
   "cell_type": "code",
   "execution_count": 24,
   "id": "70d8a469",
   "metadata": {},
   "outputs": [
    {
     "name": "stdout",
     "output_type": "stream",
     "text": [
      "I have eaten 99 burritos\n"
     ]
    }
   ],
   "source": [
    "print('I have eaten '+str(99)+' burritos')"
   ]
  },
  {
   "cell_type": "code",
   "execution_count": null,
   "id": "d1c9e3c4",
   "metadata": {},
   "outputs": [],
   "source": []
  },
  {
   "cell_type": "code",
   "execution_count": null,
   "id": "56da3b5b",
   "metadata": {},
   "outputs": [],
   "source": []
  },
  {
   "cell_type": "code",
   "execution_count": null,
   "id": "f8223ba8",
   "metadata": {},
   "outputs": [],
   "source": []
  },
  {
   "cell_type": "code",
   "execution_count": null,
   "id": "59bffb1b",
   "metadata": {},
   "outputs": [],
   "source": []
  }
 ],
 "metadata": {
  "kernelspec": {
   "display_name": "Python 3 (ipykernel)",
   "language": "python",
   "name": "python3"
  },
  "language_info": {
   "codemirror_mode": {
    "name": "ipython",
    "version": 3
   },
   "file_extension": ".py",
   "mimetype": "text/x-python",
   "name": "python",
   "nbconvert_exporter": "python",
   "pygments_lexer": "ipython3",
   "version": "3.9.7"
  }
 },
 "nbformat": 4,
 "nbformat_minor": 5
}
